{
 "cells": [
  {
   "cell_type": "code",
   "execution_count": 1,
   "id": "9422ba60-2568-48e6-8723-ce0201dc3e63",
   "metadata": {},
   "outputs": [],
   "source": [
    "from hypatia import Model\n",
    "from hypatia import italy2020_merge_results"
   ]
  },
  {
   "cell_type": "code",
   "execution_count": 2,
   "id": "db605984-cffa-41c4-b51f-482b0e28031f",
   "metadata": {},
   "outputs": [],
   "source": [
    "base_path = r\"C:\\Users\\frac1\\Politecnico di Milano\\DENG-SESAM - Documenti\\PROJECTS_Eni_Modelling Suite\\Model\\examples\\Italian_energy_system_2020\\Planning\""
   ]
  },
  {
   "cell_type": "code",
   "execution_count": 4,
   "id": "16d81ced-4d3d-4570-b924-cb7ba792f7df",
   "metadata": {},
   "outputs": [],
   "source": [
    "# load sets\n",
    "model = Model(path=base_path + \"/sets_planning/\", mode=\"Planning\")"
   ]
  },
  {
   "cell_type": "code",
   "execution_count": 6,
   "id": "0338092c-8de2-4a1e-8eb7-6a8163a3f1c0",
   "metadata": {},
   "outputs": [],
   "source": [
    "# model.create_data_excels(\n",
    "#    path = base_path + '\\parameters_planning', force_rewrite=True\n",
    "# )"
   ]
  },
  {
   "cell_type": "code",
   "execution_count": 8,
   "id": "f3406853-9b01-4dab-9730-c345cff231b8",
   "metadata": {
    "tags": []
   },
   "outputs": [],
   "source": [
    "# read parameters data\n",
    "model.read_input_data(base_path + r\"/parameters_planning/\")"
   ]
  },
  {
   "cell_type": "code",
   "execution_count": 9,
   "id": "0c4f5fe0-f6b3-4cf7-9f77-8f45b29bcc5d",
   "metadata": {},
   "outputs": [
    {
     "name": "stdout",
     "output_type": "stream",
     "text": [
      "===============================================================================\n",
      "                                     CVXPY                                     \n",
      "                                    v1.1.17                                    \n",
      "===============================================================================\n",
      "(CVXPY) Jun 23 04:41:44 PM: Your problem has 1365 variables, 208 constraints, and 0 parameters.\n",
      "(CVXPY) Jun 23 04:41:46 PM: It is compliant with the following grammars: DCP, DQCP\n",
      "(CVXPY) Jun 23 04:41:46 PM: (If you need to solve this problem multiple times, but with different data, consider using parameters.)\n",
      "(CVXPY) Jun 23 04:41:46 PM: CVXPY will first compile your problem; then, it will invoke a numerical solver to obtain a solution.\n",
      "-------------------------------------------------------------------------------\n",
      "                                  Compilation                                  \n",
      "-------------------------------------------------------------------------------\n",
      "(CVXPY) Jun 23 04:41:48 PM: Compiling problem (target solver=SCIPY).\n",
      "(CVXPY) Jun 23 04:41:48 PM: Reduction chain: Dcp2Cone -> CvxAttr2Constr -> ConeMatrixStuffing -> SCIPY\n",
      "(CVXPY) Jun 23 04:41:48 PM: Applying reduction Dcp2Cone\n",
      "(CVXPY) Jun 23 04:41:51 PM: Applying reduction CvxAttr2Constr\n",
      "(CVXPY) Jun 23 04:41:53 PM: Applying reduction ConeMatrixStuffing\n",
      "(CVXPY) Jun 23 04:42:00 PM: Applying reduction SCIPY\n",
      "(CVXPY) Jun 23 04:42:00 PM: Finished problem compilation (took 1.399e+01 seconds).\n",
      "-------------------------------------------------------------------------------\n",
      "                                Numerical solver                               \n",
      "-------------------------------------------------------------------------------\n",
      "(CVXPY) Jun 23 04:42:00 PM: Invoking solver SCIPY  to obtain a solution.\n",
      "Solver terminated with message: Optimization terminated successfully.\n"
     ]
    },
    {
     "name": "stderr",
     "output_type": "stream",
     "text": [
      "C:\\Users\\frac1\\anaconda3\\envs\\hypatia-amedeofork\\lib\\site-packages\\cvxpy\\reductions\\solvers\\conic_solvers\\scipy_conif.py:154: UserWarning:\n",
      "\n",
      "It is best to specify the 'method' parameter within scipy_options. The main advantage of this solver, is its ability to use the HiGHS LP solvers via scipy.optimize.linprog() which require a SciPy version >= 1.6.1 .\n",
      "\n",
      "The default method 'highs' will be used in this case.\n",
      "\n",
      "\n"
     ]
    },
    {
     "name": "stdout",
     "output_type": "stream",
     "text": [
      "-------------------------------------------------------------------------------\n",
      "                                    Summary                                    \n",
      "-------------------------------------------------------------------------------\n",
      "(CVXPY) Jun 23 04:42:00 PM: Problem status: optimal\n",
      "(CVXPY) Jun 23 04:42:00 PM: Optimal value: 1.563e+10\n",
      "(CVXPY) Jun 23 04:42:00 PM: Compilation took 1.399e+01 seconds\n",
      "(CVXPY) Jun 23 04:42:00 PM: Solver (including time spent in interface) took 3.004e-02 seconds\n"
     ]
    }
   ],
   "source": [
    "# SCENARIO 1\n",
    "\n",
    "# solve model\n",
    "model.run(solver='scipy')\n",
    "\n",
    "# write result to csv in the it2020 format\n",
    "model.to_csv(path=base_path + \"/results_planning/\", force_rewrite=True, postprocessing_module=\"it2020\")"
   ]
  },
  {
   "cell_type": "code",
   "execution_count": null,
   "id": "098f121c-1fa8-4caa-9d6f-a18b56292d51",
   "metadata": {},
   "outputs": [],
   "source": []
  },
  {
   "cell_type": "code",
   "execution_count": 13,
   "id": "da313730-2eaa-42d5-9fe0-cefe1adc334d",
   "metadata": {
    "tags": []
   },
   "outputs": [
    {
     "name": "stdout",
     "output_type": "stream",
     "text": [
      "===============================================================================\n",
      "                                     CVXPY                                     \n",
      "                                    v1.1.17                                    \n",
      "===============================================================================\n",
      "(CVXPY) Jun 23 04:43:09 PM: Your problem has 1365 variables, 208 constraints, and 0 parameters.\n",
      "(CVXPY) Jun 23 04:43:10 PM: It is compliant with the following grammars: DCP, DQCP\n",
      "(CVXPY) Jun 23 04:43:10 PM: (If you need to solve this problem multiple times, but with different data, consider using parameters.)\n",
      "(CVXPY) Jun 23 04:43:10 PM: CVXPY will first compile your problem; then, it will invoke a numerical solver to obtain a solution.\n",
      "-------------------------------------------------------------------------------\n",
      "                                  Compilation                                  \n",
      "-------------------------------------------------------------------------------\n",
      "(CVXPY) Jun 23 04:43:12 PM: Compiling problem (target solver=SCIPY).\n",
      "(CVXPY) Jun 23 04:43:12 PM: Reduction chain: Dcp2Cone -> CvxAttr2Constr -> ConeMatrixStuffing -> SCIPY\n",
      "(CVXPY) Jun 23 04:43:12 PM: Applying reduction Dcp2Cone\n",
      "(CVXPY) Jun 23 04:43:13 PM: Applying reduction CvxAttr2Constr\n",
      "(CVXPY) Jun 23 04:43:15 PM: Applying reduction ConeMatrixStuffing\n",
      "(CVXPY) Jun 23 04:43:20 PM: Applying reduction SCIPY\n",
      "(CVXPY) Jun 23 04:43:20 PM: Finished problem compilation (took 9.999e+00 seconds).\n",
      "-------------------------------------------------------------------------------\n",
      "                                Numerical solver                               \n",
      "-------------------------------------------------------------------------------\n",
      "(CVXPY) Jun 23 04:43:20 PM: Invoking solver SCIPY  to obtain a solution.\n",
      "Solver terminated with message: Optimization terminated successfully.\n"
     ]
    },
    {
     "name": "stderr",
     "output_type": "stream",
     "text": [
      "C:\\Users\\frac1\\anaconda3\\envs\\hypatia-amedeofork\\lib\\site-packages\\cvxpy\\reductions\\solvers\\conic_solvers\\scipy_conif.py:154: UserWarning:\n",
      "\n",
      "It is best to specify the 'method' parameter within scipy_options. The main advantage of this solver, is its ability to use the HiGHS LP solvers via scipy.optimize.linprog() which require a SciPy version >= 1.6.1 .\n",
      "\n",
      "The default method 'highs' will be used in this case.\n",
      "\n",
      "\n"
     ]
    },
    {
     "name": "stdout",
     "output_type": "stream",
     "text": [
      "-------------------------------------------------------------------------------\n",
      "                                    Summary                                    \n",
      "-------------------------------------------------------------------------------\n",
      "(CVXPY) Jun 23 04:43:21 PM: Problem status: optimal\n",
      "(CVXPY) Jun 23 04:43:21 PM: Optimal value: 1.563e+10\n",
      "(CVXPY) Jun 23 04:43:21 PM: Compilation took 9.999e+00 seconds\n",
      "(CVXPY) Jun 23 04:43:21 PM: Solver (including time spent in interface) took 2.247e-02 seconds\n"
     ]
    }
   ],
   "source": [
    "# SCENARIO 2\n",
    "\n",
    "# load sets\n",
    "model2 = Model(path=base_path + \"/sets_planning/\", mode=\"Planning\")\n",
    "\n",
    "# write default parameters data\n",
    "# model2.create_data_excels(base_path + \"/parameters_scenario_2\", force_rewrite=True)\n",
    "\n",
    "# read parameters data\n",
    "model2.read_input_data(base_path + \"/parameters_planning/\")\n",
    "\n",
    "# solve model\n",
    "model2.run(solver='scipy')\n",
    "\n",
    "# write result to csv in the it2020 format\n",
    "model2.to_csv(path=base_path + \"/result_scenario_2/\", force_rewrite=True, postprocessing_module=\"it2020\")"
   ]
  },
  {
   "cell_type": "code",
   "execution_count": 40,
   "id": "a3dfaab9-e244-4171-9035-c51a3877355c",
   "metadata": {
    "tags": []
   },
   "outputs": [],
   "source": [
    "### ADD ADDITIONAL SCENARIOS\n",
    "#...\n",
    "#..."
   ]
  },
  {
   "cell_type": "code",
   "execution_count": 14,
   "id": "0220a3bd-93b4-4309-839e-02992ed6cfdb",
   "metadata": {},
   "outputs": [],
   "source": [
    "# Merge result csv for different scenarios\n",
    "italy2020_merge_results(\n",
    "    scenarios={\n",
    "        \"scenario1\": base_path + \"/results_planning/\",\n",
    "        \"scenario2\": base_path + \"/results_planning/\"\n",
    "        # other scenarios...\n",
    "    },\n",
    "    path=base_path + \"/merged_results_planning\",\n",
    "    force_rewrite=True\n",
    ")\n",
    "\n",
    "# AGGREGATION FILE\n",
    "# generate aggregation for the 2 models.\n",
    "# Since the 2 models sets are the same the generated file from the 2 models will be the same. Therefore I generate only 1 aggregation file\n",
    "# which can be shared between the 2 models\n",
    "model.create_aggregation_config_file(path=base_path + \"/aggregation_config_planning.xlsx\")"
   ]
  }
 ],
 "metadata": {
  "kernelspec": {
   "display_name": "Python 3 (ipykernel)",
   "language": "python",
   "name": "python3"
  },
  "language_info": {
   "codemirror_mode": {
    "name": "ipython",
    "version": 3
   },
   "file_extension": ".py",
   "mimetype": "text/x-python",
   "name": "python",
   "nbconvert_exporter": "python",
   "pygments_lexer": "ipython3",
   "version": "3.8.12"
  }
 },
 "nbformat": 4,
 "nbformat_minor": 5
}
