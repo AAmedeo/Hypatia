{
 "cells": [
  {
   "cell_type": "code",
   "execution_count": 1,
   "id": "9422ba60-2568-48e6-8723-ce0201dc3e63",
   "metadata": {},
   "outputs": [],
   "source": [
    "from hypatia import Model\n",
    "from hypatia import italy2020_merge_results"
   ]
  },
  {
   "cell_type": "code",
   "execution_count": 2,
   "id": "db605984-cffa-41c4-b51f-482b0e28031f",
   "metadata": {},
   "outputs": [],
   "source": [
    "base_path = r\"C:\\Users\\frac1\\Politecnico di Milano\\DENG-SESAM - Documenti\\PROJECTS_Eni_Modelling Suite\\Model\\examples\\Italian_energy_system_2020\""
   ]
  },
  {
   "cell_type": "code",
   "execution_count": 5,
   "id": "0338092c-8de2-4a1e-8eb7-6a8163a3f1c0",
   "metadata": {},
   "outputs": [],
   "source": [
    "model.create_data_excels(\n",
    "   path = r'parameters planning'\n",
    ")"
   ]
  },
  {
   "cell_type": "code",
   "execution_count": 63,
   "id": "0c4f5fe0-f6b3-4cf7-9f77-8f45b29bcc5d",
   "metadata": {},
   "outputs": [
    {
     "name": "stdout",
     "output_type": "stream",
     "text": [
      "===============================================================================\n",
      "                                     CVXPY                                     \n",
      "                                    v1.1.17                                    \n",
      "===============================================================================\n",
      "(CVXPY) May 17 10:19:34 AM: Your problem has 341640 variables, 32 constraints, and 0 parameters.\n",
      "(CVXPY) May 17 10:19:34 AM: It is compliant with the following grammars: DCP, DQCP\n",
      "(CVXPY) May 17 10:19:34 AM: (If you need to solve this problem multiple times, but with different data, consider using parameters.)\n",
      "(CVXPY) May 17 10:19:34 AM: CVXPY will first compile your problem; then, it will invoke a numerical solver to obtain a solution.\n",
      "-------------------------------------------------------------------------------\n",
      "                                  Compilation                                  \n",
      "-------------------------------------------------------------------------------\n",
      "(CVXPY) May 17 10:19:34 AM: Compiling problem (target solver=SCIPY).\n",
      "(CVXPY) May 17 10:19:34 AM: Reduction chain: Dcp2Cone -> CvxAttr2Constr -> ConeMatrixStuffing -> SCIPY\n",
      "(CVXPY) May 17 10:19:34 AM: Applying reduction Dcp2Cone\n",
      "(CVXPY) May 17 10:19:34 AM: Applying reduction CvxAttr2Constr\n",
      "(CVXPY) May 17 10:19:34 AM: Applying reduction ConeMatrixStuffing\n",
      "(CVXPY) May 17 10:19:36 AM: Applying reduction SCIPY\n",
      "(CVXPY) May 17 10:19:36 AM: Finished problem compilation (took 2.098e+00 seconds).\n",
      "-------------------------------------------------------------------------------\n",
      "                                Numerical solver                               \n",
      "-------------------------------------------------------------------------------\n",
      "(CVXPY) May 17 10:19:36 AM: Invoking solver SCIPY  to obtain a solution.\n"
     ]
    },
    {
     "name": "stderr",
     "output_type": "stream",
     "text": [
      "C:\\Users\\frac1\\anaconda3\\envs\\hypatia-amedeofork\\lib\\site-packages\\cvxpy\\reductions\\solvers\\conic_solvers\\scipy_conif.py:154: UserWarning:\n",
      "\n",
      "It is best to specify the 'method' parameter within scipy_options. The main advantage of this solver, is its ability to use the HiGHS LP solvers via scipy.optimize.linprog() which require a SciPy version >= 1.6.1 .\n",
      "\n",
      "The default method 'highs' will be used in this case.\n",
      "\n",
      "\n"
     ]
    },
    {
     "name": "stdout",
     "output_type": "stream",
     "text": [
      "Solver terminated with message: Optimization terminated successfully.\n",
      "-------------------------------------------------------------------------------\n",
      "                                    Summary                                    \n",
      "-------------------------------------------------------------------------------\n",
      "(CVXPY) May 17 10:19:42 AM: Problem status: optimal\n",
      "(CVXPY) May 17 10:19:42 AM: Optimal value: 6.864e+10\n",
      "(CVXPY) May 17 10:19:42 AM: Compilation took 2.098e+00 seconds\n",
      "(CVXPY) May 17 10:19:42 AM: Solver (including time spent in interface) took 5.308e+00 seconds\n"
     ]
    }
   ],
   "source": [
    "# SCENARIO 1\n",
    "\n",
    "# load sets\n",
    "model = Model(path=base_path + \"/sets/\", mode=\"Planning\")\n",
    "\n",
    "# read parameters data\n",
    "model.read_input_data(base_path + \"/parameters v3/\")\n",
    "\n",
    "# solve model\n",
    "model.run(solver='scipy')\n",
    "\n",
    "# write result to csv in the it2020 format\n",
    "model.to_csv(path=base_path + \"/result_scenario_1/\", force_rewrite=True, postprocessing_module=\"it2020\")"
   ]
  },
  {
   "cell_type": "code",
   "execution_count": 18,
   "id": "da313730-2eaa-42d5-9fe0-cefe1adc334d",
   "metadata": {
    "tags": []
   },
   "outputs": [
    {
     "name": "stdout",
     "output_type": "stream",
     "text": [
      "===============================================================================\n",
      "                                     CVXPY                                     \n",
      "                                    v1.1.17                                    \n",
      "===============================================================================\n",
      "(CVXPY) May 16 03:50:56 PM: Your problem has 341640 variables, 32 constraints, and 0 parameters.\n",
      "(CVXPY) May 16 03:50:56 PM: It is compliant with the following grammars: DCP, DQCP\n",
      "(CVXPY) May 16 03:50:56 PM: (If you need to solve this problem multiple times, but with different data, consider using parameters.)\n",
      "(CVXPY) May 16 03:50:56 PM: CVXPY will first compile your problem; then, it will invoke a numerical solver to obtain a solution.\n",
      "-------------------------------------------------------------------------------\n",
      "                                  Compilation                                  \n",
      "-------------------------------------------------------------------------------\n",
      "(CVXPY) May 16 03:50:56 PM: Compiling problem (target solver=SCIPY).\n",
      "(CVXPY) May 16 03:50:56 PM: Reduction chain: Dcp2Cone -> CvxAttr2Constr -> ConeMatrixStuffing -> SCIPY\n",
      "(CVXPY) May 16 03:50:56 PM: Applying reduction Dcp2Cone\n",
      "(CVXPY) May 16 03:50:56 PM: Applying reduction CvxAttr2Constr\n",
      "(CVXPY) May 16 03:50:56 PM: Applying reduction ConeMatrixStuffing\n",
      "(CVXPY) May 16 03:50:58 PM: Applying reduction SCIPY\n",
      "(CVXPY) May 16 03:50:58 PM: Finished problem compilation (took 1.726e+00 seconds).\n",
      "-------------------------------------------------------------------------------\n",
      "                                Numerical solver                               \n",
      "-------------------------------------------------------------------------------\n",
      "(CVXPY) May 16 03:50:58 PM: Invoking solver SCIPY  to obtain a solution.\n"
     ]
    },
    {
     "name": "stderr",
     "output_type": "stream",
     "text": [
      "C:\\Users\\frac1\\anaconda3\\envs\\hypatia-amedeofork\\lib\\site-packages\\cvxpy\\reductions\\solvers\\conic_solvers\\scipy_conif.py:154: UserWarning:\n",
      "\n",
      "It is best to specify the 'method' parameter within scipy_options. The main advantage of this solver, is its ability to use the HiGHS LP solvers via scipy.optimize.linprog() which require a SciPy version >= 1.6.1 .\n",
      "\n",
      "The default method 'highs' will be used in this case.\n",
      "\n",
      "\n"
     ]
    },
    {
     "name": "stdout",
     "output_type": "stream",
     "text": [
      "Solver terminated with message: Optimization terminated successfully.\n",
      "-------------------------------------------------------------------------------\n",
      "                                    Summary                                    \n",
      "-------------------------------------------------------------------------------\n",
      "(CVXPY) May 16 03:51:01 PM: Problem status: optimal\n",
      "(CVXPY) May 16 03:51:01 PM: Optimal value: 7.401e+10\n",
      "(CVXPY) May 16 03:51:01 PM: Compilation took 1.726e+00 seconds\n",
      "(CVXPY) May 16 03:51:01 PM: Solver (including time spent in interface) took 2.796e+00 seconds\n"
     ]
    }
   ],
   "source": [
    "# SCENARIO 2\n",
    "\n",
    "# load sets\n",
    "model2 = Model(path=base_path + \"/sets/\", mode=\"Operation\")\n",
    "\n",
    "# write default parameters data\n",
    "# model2.create_data_excels(base_path + \"/parameters_scenario_2\", force_rewrite=True)\n",
    "\n",
    "# read parameters data\n",
    "model2.read_input_data(base_path + \"/parameters_scenario_2/\")\n",
    "\n",
    "# solve model\n",
    "model2.run(solver='scipy')\n",
    "\n",
    "# write result to csv in the it2020 format\n",
    "model2.to_csv(path=base_path + \"/result_scenario_2/\", force_rewrite=True, postprocessing_module=\"it2020\")"
   ]
  },
  {
   "cell_type": "code",
   "execution_count": 40,
   "id": "a3dfaab9-e244-4171-9035-c51a3877355c",
   "metadata": {
    "tags": []
   },
   "outputs": [],
   "source": [
    "### ADD ADDITIONAL SCENARIOS\n",
    "#...\n",
    "#..."
   ]
  },
  {
   "cell_type": "code",
   "execution_count": 64,
   "id": "0220a3bd-93b4-4309-839e-02992ed6cfdb",
   "metadata": {},
   "outputs": [],
   "source": [
    "# Merge result csv for different scenarios\n",
    "italy2020_merge_results(\n",
    "    scenarios={\n",
    "        \"scenario1\": base_path + \"/result_scenario_1/\",\n",
    "        \"scenario2\": base_path + \"/result_scenario_2/\"\n",
    "        # other scenarios...\n",
    "    },\n",
    "    path=base_path + \"/merged_results\",\n",
    "    force_rewrite=True\n",
    ")\n",
    "\n",
    "# AGGREGATION FILE\n",
    "# generate aggregation for the 2 models.\n",
    "# Since the 2 models sets are the same the generated file from the 2 models will be the same. Therefore I generate only 1 aggregation file\n",
    "# which can be shared between the 2 models\n",
    "model.create_aggregation_config_file(path=base_path + \"/aggregation_config.xlsx\")"
   ]
  }
 ],
 "metadata": {
  "kernelspec": {
   "display_name": "Python 3 (ipykernel)",
   "language": "python",
   "name": "python3"
  },
  "language_info": {
   "codemirror_mode": {
    "name": "ipython",
    "version": 3
   },
   "file_extension": ".py",
   "mimetype": "text/x-python",
   "name": "python",
   "nbconvert_exporter": "python",
   "pygments_lexer": "ipython3",
   "version": "3.8.13"
  }
 },
 "nbformat": 4,
 "nbformat_minor": 5
}
