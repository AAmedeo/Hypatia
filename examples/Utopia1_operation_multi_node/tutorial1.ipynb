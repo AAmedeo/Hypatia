{
 "cells": [
  {
   "cell_type": "markdown",
   "metadata": {},
   "source": [
    "# Tutorial 1: Operational Multi-Node Example"
   ]
  },
  {
   "cell_type": "markdown",
   "metadata": {},
   "source": [
    "This example analyzes the energy system of a hypothetical region (Utopia) which is divided into two locations: Utopia-north and Utopia-south. \n",
    "\n",
    "The Reference Energy System of the northern region includes a natural gas extraction technology, two renewable power supply technologies (Wind and Hydro), and one conventional power plant (Combined Heat and Power) which converts the natural gas fuel to both heat and electricity. Moreover, two types of transmission  (Electricity Transmission and Distribution and Gas Pipelines) are considered for transporting the electricity and gas to the demand side. The transmitted electricity is directly entered into the final electricity demand technology, while the transmitted gas is converted by gas boilers to heat which ultimately enters the final heat demand technology.\n",
    "\n",
    "On the other hand, the Reference Energy System of the southern region consists of only two renewable power supply technologies (Geothermal and Solar). The produced electricity from these power plants is then delivered to the Final Electricity Demand technology after passing through the local Electricity Transmission and Distribution. \n",
    "\n",
    "The two locations can do a bilateral electricity trade through the installed Cross Border Transmission Link.\n"
   ]
  },
  {
   "cell_type": "markdown",
   "metadata": {},
   "source": [
    "<img src=\"./imgs/RES.PNG\" width=\"500\" height=\"600\">"
   ]
  },
  {
   "cell_type": "markdown",
   "metadata": {},
   "source": [
    "### 1. Building the excel-based structural input (set) files:"
   ]
  },
  {
   "cell_type": "markdown",
   "metadata": {},
   "source": [
    "Considering that there are two locations in the Utopia region, three excel files are required:\n",
    "\n",
    "<li> <span style=\"font-weight: bold;\">“global”</span>: indicating the technologies and carriers within the global(whole Utopia) energy system, the locations, the modelling years, and the time steps within each year</li>\n",
    "\n",
    "<li> <span style=\"font-weight: bold;\">“reg1”</span>: indicating the Reference Energy System of the northern region</li>\n",
    "\n",
    "\n",
    "<li> <span style=\"font-weight: bold;\">“reg2”</span>: indicating the Reference Energy System of the northern region</li>"
   ]
  },
  {
   "cell_type": "markdown",
   "metadata": {},
   "source": [
    "<span style=\"font-weight: bold;\">Note:</span> The name of the excel files must be determined as above. It is not possible to include arbitrary file names"
   ]
  },
  {
   "cell_type": "markdown",
   "metadata": {},
   "source": [
    "<img src=\"./imgs/sets.PNG\" width=\"500\" height=\"600\">"
   ]
  },
  {
   "cell_type": "markdown",
   "metadata": {},
   "source": [
    "#### 1.1“global” excel file:"
   ]
  },
  {
   "cell_type": "markdown",
   "metadata": {},
   "source": [
    "As it is described in the building model documentation, the structural input excels consists of several tables for different sets of the model. The first table in global files is <span style=\"font-weight: bold;\">“Regions”</span> including the locations of the study and the name of each location as below:"
   ]
  },
  {
   "cell_type": "markdown",
   "metadata": {},
   "source": [
    "<img src=\"./imgs/regions.PNG\" width=\"300\" height=\"400\">"
   ]
  },
  {
   "cell_type": "markdown",
   "metadata": {},
   "source": [
    "The second table is <span style=\"font-weight: bold;\"> “Technologies_glob”</span> which includes all the technologies within the Utopia regardless of the location, their name, and categories as shown below. Please note that the technology categories must be chosen from <span style=\"font-weight: bold;\"> Supply, Conversion, Conversion_plus, Storage, Transmission, and Storage categories </span> and can not be anything different from the mentioned names."
   ]
  },
  {
   "cell_type": "markdown",
   "metadata": {},
   "source": [
    "<img src=\"./imgs/technologies_glob.PNG\" width=\"500\" height=\"600\">"
   ]
  },
  {
   "cell_type": "markdown",
   "metadata": {},
   "source": [
    "After global technologies, global carriers must be indicated in the table <span style=\"font-weight: bold;\"> “Carriers_glob”</span>. In this table, all the carriers with their name and type must be included as below. The allowed carrier type are <span style=\"font-weight: bold;\"> Resource, Intermediate, and Demand</span>."
   ]
  },
  {
   "cell_type": "markdown",
   "metadata": {},
   "source": [
    "<img src=\"./imgs/carriers_glob.PNG\" width=\"500\" height=\"600\">"
   ]
  },
  {
   "cell_type": "markdown",
   "metadata": {},
   "source": [
    "Ultimately, the time horizon and temporal resolution of the model must be determined by “Years” and “Timesteps” tables respectively."
   ]
  },
  {
   "cell_type": "markdown",
   "metadata": {},
   "source": [
    "<img src=\"./imgs/years.PNG\" width=\"200\" height=\"300\">\n",
    "\n"
   ]
  },
  {
   "cell_type": "markdown",
   "metadata": {},
   "source": [
    "Considering that in this case study, the temporal resolution is hourly (8760 hours within the year), we avoided bringing the full table in this tutorial.  The “Timesteps” table must include the intra-year time slices, their names, and their length fraction compared to the whole year which is 1/8760 in this case."
   ]
  },
  {
   "cell_type": "markdown",
   "metadata": {},
   "source": [
    "<img src=\"./imgs/timesteps.PNG\" width=\"500\" height=\"600\">"
   ]
  },
  {
   "cell_type": "markdown",
   "metadata": {},
   "source": [
    "#### 1.2 “reg1” excel file:\n"
   ]
  },
  {
   "cell_type": "markdown",
   "metadata": {},
   "source": [
    "The regional excel files consist of regional technologies, carriers, and the interconnections among them based on the Reference Energy System. The first table of regional files is named <span style=\"font-weight: bold;\"> “Technologies”</span> where the user must indicate all the technologies within the specific location (Utopia-north) as shown below:"
   ]
  },
  {
   "cell_type": "markdown",
   "metadata": {},
   "source": [
    "<img src=\"./imgs/technologies.PNG\" width=\"500\" height=\"600\">"
   ]
  },
  {
   "cell_type": "markdown",
   "metadata": {},
   "source": [
    "The second table is named <span style=\"font-weight: bold;\">“Carriers”</span> which is dedicated to determining all the carriers within the Utopia-north."
   ]
  },
  {
   "cell_type": "markdown",
   "metadata": {},
   "source": [
    "<img src=\"./imgs/carriers.PNG\" width=\"500\" height=\"600\">"
   ]
  },
  {
   "cell_type": "markdown",
   "metadata": {},
   "source": [
    "The connections among the technologies and carriers within the reference energy system are determined by “Carrier-input” and “Carrier_output” tables. In the former, the input carriers of the technologies, and in the latter, the output carriers of technologies are represented. Please note that the “Supply” technologies and “Demand” technologies should not be included in <span style=\"font-weight: bold;\">“Carrier-input”</span> and <span style=\"font-weight: bold;\">“Carrier-output”</span> tables respectively because the “Supply” category of technology just provide energy carrier to the system without any conversion process and the “Demand” category just sinks and removes the demand energy carriers from the system."
   ]
  },
  {
   "cell_type": "markdown",
   "metadata": {},
   "source": [
    "<h4>Carrier Input</h4>\n",
    "<img src=\"./imgs/carriers_input.PNG\" width=\"400\" height=\"500\">\n",
    "\n",
    "<h4>Carrier Output</h4>\n",
    "<img src=\"./imgs/carriers_output.PNG\" width=\"400\" height=\"500\">"
   ]
  },
  {
   "cell_type": "markdown",
   "metadata": {},
   "source": [
    "There are a few important things to note about the structural input files:\n",
    "<br>\n",
    "<br>\n",
    "<li>The name of the tables are fixed and cannot be chosen at will by the user. All the table names must be indicated as mentioned above. However, in case of any potential error, the Hypatia model delivers proper warnings to the user after reading the set files. The table names can be fixed in the excel files through the following path as shown in the following figure.</li>"
   ]
  },
  {
   "cell_type": "markdown",
   "metadata": {},
   "source": [
    "<p style=\"font-weight: bold;\">Formulas tab of the ribbon > Name Manager > Edit > Name</p>"
   ]
  },
  {
   "cell_type": "markdown",
   "metadata": {},
   "source": [
    "<img src=\"./imgs/table_names_reg.PNG\" >"
   ]
  },
  {
   "cell_type": "markdown",
   "metadata": {},
   "source": [
    "<li>The name of the columns in each table must be exactly as the indicated names in this tutorial. There are also warning and exception errors for the possible mistakes in the column names.</li>\n",
    "<br>\n",
    "<li>If there are similar technologies in various regions, their names must be identical in different “reg” set files and therefore, only one name as the representative of that technology in all the regions must be included in the “Technologies_glob” in the “global” set file. For example, if there is a Hydropower plant in all the considered locations within the geographical coverage of the model, one single name such as “Hydro PP” must be considered in all the regional set files and this name should be brought only once in the “global” set file.</li>"
   ]
  },
  {
   "cell_type": "markdown",
   "metadata": {},
   "source": [
    "### 2. Initializing the Hypatia model by reading the excel-based set files"
   ]
  },
  {
   "cell_type": "markdown",
   "metadata": {},
   "source": [
    "After specifying all the sets of the model, it is time to initialize the Hypatia model and read the structural input files."
   ]
  },
  {
   "cell_type": "markdown",
   "metadata": {},
   "source": [
    "##### Importing the hypatia model"
   ]
  },
  {
   "cell_type": "code",
   "execution_count": null,
   "metadata": {},
   "outputs": [],
   "source": [
    "from hypatia import Model"
   ]
  },
  {
   "cell_type": "markdown",
   "metadata": {},
   "source": [
    "##### Giving the path of the operational example folder"
   ]
  },
  {
   "cell_type": "code",
   "execution_count": null,
   "metadata": {},
   "outputs": [],
   "source": [
    "path_folder = 'Examples/Utopia1_operation_multi_node'"
   ]
  },
  {
   "cell_type": "markdown",
   "metadata": {},
   "source": [
    "##### Intializing the hypatia model by passing the optimization mode and the path of the structural input files (sets of the model)"
   ]
  },
  {
   "cell_type": "code",
   "execution_count": null,
   "metadata": {},
   "outputs": [],
   "source": [
    "utopia = Model(\n",
    "    path = '{}/sets'.format(path_folder), \n",
    "    mode = 'Operation' \n",
    ")"
   ]
  },
  {
   "cell_type": "markdown",
   "metadata": {},
   "source": [
    "### 3. Creating the excel-based parameter files "
   ]
  },
  {
   "cell_type": "markdown",
   "metadata": {},
   "source": [
    "Now the model can create the parameter files with their default values through running the following commands.\n",
    "<br>\n",
    "After running this command line, we are going to open the created parameter files and fill them with the model data."
   ]
  },
  {
   "cell_type": "code",
   "execution_count": null,
   "metadata": {},
   "outputs": [],
   "source": [
    "utopia.create_data_excels(\n",
    "    path = r'{}/parameters'.format(path_folder)\n",
    ")"
   ]
  },
  {
   "cell_type": "markdown",
   "metadata": {},
   "source": [
    "In this case, as we have a multi-node approach, it is expected to see the following files in the given path:\n",
    "\n",
    "<li>Two files for regional parameters named <span style=\"font-weight: bold;\">“parameters_reg1.xlsx”</span> and <span style=\"font-weight: bold;\">“parameters_reg2.xlsx”</span> </li>\n",
    "\n",
    "<li>One file for global parameter and constraints named <span style=\"font-weight: bold;\">“parameters_global.xlsx”</span> </li>\n",
    "\n",
    "<li>One file for parameters related to the possible connections among the regions which is named <span style=\"font-weight: bold;\">“parameter_connections.xlsx”</span>. </li>"
   ]
  },
  {
   "cell_type": "markdown",
   "metadata": {},
   "source": [
    "### 4. Filling the parameter files with the input data"
   ]
  },
  {
   "cell_type": "markdown",
   "metadata": {},
   "source": [
    "Now it is time to insert the input data in their related parameter files."
   ]
  },
  {
   "cell_type": "markdown",
   "metadata": {},
   "source": [
    "#### 4.1 Regional parameter files:"
   ]
  },
  {
   "cell_type": "markdown",
   "metadata": {},
   "source": [
    "In this case study, we are focusing on the operational mode of the energy system. Therefore, the following sheets can be found in the excel files:\n",
    "<br><br>\n",
    "<li><span style=\"font-weight: bold;\">Specific fixed and variable operation and maintenance costs: </span> These costs must be defined on an annual basis for each technology within each category. Different units can be considered for different technologies. In this case, the variable cost of all technologies is defined in USD/MWh except for Natural Gas Extraction variable cost which is based on USD/BOE (dollars per barrel of oil equivalent). All the fixed costs are assumed to be equal to zero as they are not going to affect the optimization process.</li>"
   ]
  },
  {
   "cell_type": "markdown",
   "metadata": {},
   "source": [
    "<img src=\"./imgs/costs.PNG\" width=\"500\" height=\"600\">"
   ]
  },
  {
   "cell_type": "markdown",
   "metadata": {},
   "source": [
    "<li><span style=\"font-weight: bold;\">Fixed taxes and subsidies: </span> Annual taxes and subsidies per unit fixed cost of a technology which are considered equal to zero in this case</li>"
   ]
  },
  {
   "cell_type": "markdown",
   "metadata": {},
   "source": [
    "<li><span style=\"font-weight: bold;\">Carbon tax: </span> Apart from the above mentioned costs, carbon tax can be also defined in the Hypatia model for different fossil fuel based technologies. It must be indicated per unit of produced CO2-equivalent emissions from each technology. In this specific case, this parameter has been left with its defaukt value which is equal to zero.</li>"
   ]
  },
  {
   "cell_type": "markdown",
   "metadata": {},
   "source": [
    "<img src=\"./imgs/carbon_tax.PNG\" width=\"500\" height=\"600\">"
   ]
  },
  {
   "cell_type": "markdown",
   "metadata": {},
   "source": [
    "<li><span style=\"font-weight: bold;\">Residual capacity:  </span> The total installed capacity of each technology before starting the modelling horizon. In the operational mode, the total capacity of technologies in the specific modelling year must be given exogenously and only the hourly dispatch of technologies are going to be optimized. The residual capacity sheet is exactly where the user must indicate the exogenous capacity of each technology within the energy system. Again, the unit of capacity can differ from one technology to another. In this case, all the units are based on MW except for the Natural Gas Extraction and Boiler which are based on the number of installed units.</li>"
   ]
  },
  {
   "cell_type": "markdown",
   "metadata": {},
   "source": [
    "<img src=\"./imgs/residual_capacity.PNG\" width=\"500\" height=\"600\">"
   ]
  },
  {
   "cell_type": "markdown",
   "metadata": {},
   "source": [
    "<li><span style=\"font-weight: bold;\">Max/Min production:</span> These parameters are useful when the user aims to do scenario analysis and provide an upper and lower limit for the annual production of each technology. In this case, the Business as Usual (BAU) scenario is considered, and therefore, no limits are applied on the production.</li>"
   ]
  },
  {
   "cell_type": "markdown",
   "metadata": {},
   "source": [
    "<li><span style=\"font-weight: bold;\">Technology capacity factor: </span> This parameter allows to consider the planned outages or operation and maintenance time of each technology. It is the average capacity of a plant divided by its nominal total capacity. In this case, it is assumed that the capacity factor of all the technologies is equal to 1.</li>"
   ]
  },
  {
   "cell_type": "markdown",
   "metadata": {},
   "source": [
    "<li><span style=\"font-weight: bold;\">Resource capacity factor: </span> This parameter allows us to consider the availability of resources (especially for renewable technologies) in each time slice of the year.  It is the max production of one unit capacity of each technology in each time slice based on the variable resource availability. In this case, the full 8760 hours of the modelling year has been considered, therefore, the resource capacity factors must be given in the time-series format. The values for the first 24 hours of the year are shown in the following. It is assumed that all the resources in Utopia-north are fully available except for the wind and hydro power plants. These parameter are taken from the renewable.ninja website <a href= \"https://www.renewables.ninja\">(Renewables.Ninja, n.d.)</a> for a hypothetical location in northern Europe.</li>"
   ]
  },
  {
   "cell_type": "markdown",
   "metadata": {},
   "source": [
    "<img src=\"./imgs/resource_capacity_factor.PNG\" width=\"500\" height=\"600\">"
   ]
  },
  {
   "cell_type": "markdown",
   "metadata": {},
   "source": [
    "<li><span style=\"font-weight: bold;\">Technology efficiency</span> the technical efficiency in the Hypatia model is basically the ratio between the output carrier to the input carrier of a conversion, conversion-plus or a transmission technology. Considering the fact that the units of the carrier production and carrier consumption of each technology can be different in this model, the technology efficiency (output/input activity ratio) can be higher or lower than one. In this case study, the input energy carrier of both CHP plant and boiler is natural gas in the unit of barrels of oil equivalent (BOE) and their output is either heat or electricity in MWh. The efficiency of these technologies is around 0.8 based on the <a href= \"https://iea-etsap.org/index.php/energy-technology-data/energy-supply-technologies-data\">IEA ETSAP</a> dataset if the input and output activities hold the same unit. However, considering the converting ratio of MWh to BOE, it can be said that for each BOE natural gas, these technologies can provide around 1.3024 MWh output. Moreover, in this case, the efficiency of all the transmission technologies has been considered equal to 0.9 (assuming 10% within the links).</li>"
   ]
  },
  {
   "cell_type": "markdown",
   "metadata": {},
   "source": [
    "<li><span style=\"font-weight: bold;\">Specific emission: </span> In the Hypatia model the GHG emissions in terms of CO2 equivalent values can be considered. In this case, 0.019293 ton/boe of production has been considered for Natural Gas Extraction technology.</li>"
   ]
  },
  {
   "cell_type": "markdown",
   "metadata": {},
   "source": [
    "<img src=\"./imgs/emission.PNG\" width=\"500\" height=\"600\">"
   ]
  },
  {
   "cell_type": "markdown",
   "metadata": {},
   "source": [
    "<li><span style=\"font-weight: bold;\">Annual emission limit: </span> Allows to put an upper limit for thetotal annual emission of each region. This case study follows a BAU logic, therefore, no annual emission cap has been defined</li>"
   ]
  },
  {
   "cell_type": "markdown",
   "metadata": {},
   "source": [
    "<li><span style=\"font-weight: bold;\">Annual production per unit of capacity: </span> The amounts of output activity per each unit of installed capacity of each technology in each year of the modelling horizon. In this case study, each unit of Natural Gas extraction is assumed to produce 1320000 BOE of natural gas, each boiler unit can produce 44 MWh and each MW capacity of the power generation and transmission technologies can produce 8760 MWh per year.</li>"
   ]
  },
  {
   "cell_type": "markdown",
   "metadata": {},
   "source": [
    "<img src=\"./imgs/production_limits.PNG\" width=\"500\" height=\"600\">"
   ]
  },
  {
   "cell_type": "markdown",
   "metadata": {},
   "source": [
    "<li><span style=\"font-weight: bold;\">Demand: </span> In this case, the time series demand for both final electricity demand and final heat demand has been given to the model for 8760 hours of the year. Only 24 hours of the data is shown in the following figure.</li>"
   ]
  },
  {
   "cell_type": "markdown",
   "metadata": {},
   "source": [
    "<img src=\"./imgs/demand.PNG\" width=\"500\" height=\"600\">"
   ]
  },
  {
   "cell_type": "markdown",
   "metadata": {},
   "source": [
    "It should be noted that the data for the Utopia-south region can be inserted following the same instruction of Utopia-north parameter file. The data in “parameters_global.xlsx” are all based on the default values as no global scenarios are considered for this specific case study."
   ]
  },
  {
   "cell_type": "markdown",
   "metadata": {},
   "source": [
    "#### 4.2. “parameters-connections” file:"
   ]
  },
  {
   "cell_type": "markdown",
   "metadata": {},
   "source": [
    "The cross-border links have almost the same techno-economic parameters as the regional technologies including fixed and variable costs, residual capacity, capacity factor, efficiency, and annual production per each unit of capacity. In this case study, among all the possible connections for all the global carriers considered within Utopia, it is assumed that the northern and southern regions have only the bilateral trade of electricity. Therefore, the residual capacity of all the links for all the carriers except the electricity must be indicated equal to zero, and consequently, the user must be only concerned with the parameters that are related to this link and can leave the others with their default values. The capacity unit of the electricity cross-border link is based on MW in the case study. "
   ]
  },
  {
   "cell_type": "markdown",
   "metadata": {},
   "source": [
    "<img src=\"./imgs/residual_capacity_line.PNG\" width=\"500\" height=\"600\">"
   ]
  },
  {
   "cell_type": "markdown",
   "metadata": {},
   "source": [
    "### 5. Reading the input data"
   ]
  },
  {
   "cell_type": "markdown",
   "metadata": {},
   "source": [
    "After filling out the parameter files, it is time to ask the model to read the input data following the below command line."
   ]
  },
  {
   "cell_type": "code",
   "execution_count": null,
   "metadata": {
    "scrolled": true
   },
   "outputs": [],
   "source": [
    "utopia.read_input_data(\n",
    "    path = r'{}/parameters'.format(path_folder)\n",
    ")"
   ]
  },
  {
   "cell_type": "markdown",
   "metadata": {},
   "source": [
    "### 6. Running the model"
   ]
  },
  {
   "cell_type": "markdown",
   "metadata": {},
   "source": [
    "Now we can run the model by giving the preferred solver, verbosity and the force_rewrite parameter which avoids overwriting the output results when it is equal to False and allows to overwrite them by taking a backuo from the previous results when it is equal to True."
   ]
  },
  {
   "cell_type": "code",
   "execution_count": null,
   "metadata": {},
   "outputs": [],
   "source": [
    "utopia.run(\n",
    "    solver = 'gurobi',\n",
    "    verbosity = True,\n",
    "    force_rewrite = False\n",
    ")"
   ]
  },
  {
   "cell_type": "markdown",
   "metadata": {},
   "source": [
    "### 7. Exporting the raw results to csv files"
   ]
  },
  {
   "cell_type": "markdown",
   "metadata": {},
   "source": [
    "There is the possibility to export the raw results into the csv files by passing the arbitary folder path and force_rewrite parameter which avoids to overwrite the results when it is equal to False."
   ]
  },
  {
   "cell_type": "code",
   "execution_count": null,
   "metadata": {},
   "outputs": [],
   "source": [
    "mymodel.to_csv(path=r'{}/results'.format(path_folder),force_rewrite = True)"
   ]
  },
  {
   "cell_type": "markdown",
   "metadata": {},
   "source": [
    "### 8. Visualizing the raw results"
   ]
  },
  {
   "cell_type": "markdown",
   "metadata": {},
   "source": [
    "After solving the model, we can visualize the raw results by importing the plotting tool of the Hypatia model but before that, we need to ask the model to create the configuration excel file for indicating the desired information on technologies, fuels and regions."
   ]
  },
  {
   "cell_type": "code",
   "execution_count": null,
   "metadata": {},
   "outputs": [],
   "source": [
    " mymodel.create_config_file(path=r'{}/plots/config.xlsx'.format(path_folder))"
   ]
  },
  {
   "cell_type": "code",
   "execution_count": null,
   "metadata": {},
   "outputs": [],
   "source": [
    "from hypatia import Plotter"
   ]
  },
  {
   "cell_type": "markdown",
   "metadata": {},
   "source": [
    "Now, it is the time to initiallize the plotter class by passing the model's name, the created config file for the plots and the hourly resolution boolean parameter. The latter is True when the model has a hourly stepwise resolution and False when the timesteps are not in a hourly basis."
   ]
  },
  {
   "cell_type": "code",
   "execution_count": null,
   "metadata": {},
   "outputs": [],
   "source": [
    "myplots = Plotter(mymodel,config=r'{}/plots/config.xlsx'.format(path_folder),hourly_resolution= True)"
   ]
  },
  {
   "cell_type": "code",
   "execution_count": null,
   "metadata": {},
   "outputs": [],
   "source": [
    "# Sketching the hourly dispatch of the technologies for a given time horizom\n",
    "myplots.plot_hourly_prod_by_tech(\n",
    "    path = r'{}/plots/dispatch.html'.format(path_folder),\n",
    "    tech_group='Power Generation',\n",
    "    regions = ['reg1','reg2'],\n",
    "    year = 2021,\n",
    "    start=\"01-01 00:00:00\",\n",
    "    end=\"01-03 23:00:00\",\n",
    ")"
   ]
  },
  {
   "cell_type": "code",
   "execution_count": null,
   "metadata": {},
   "outputs": [],
   "source": [
    "# Sketching the hourly dispatch of the technologies for the whole modelling period\n",
    "myplots.plot_hourly_prod_by_tech(\n",
    "    path = r'{}/plots/full_dispatch.html'.format(path_folder),\n",
    "    tech_group='Power Generation',\n",
    "    regions = ['reg1','reg2'],\n",
    "    year = 2021,\n",
    "    start=\"01-01 00:00:00\",\n",
    "    end=\"12-29 23:00:00\",\n",
    ")"
   ]
  },
  {
   "cell_type": "code",
   "execution_count": null,
   "metadata": {},
   "outputs": [],
   "source": [
    "# Skething the prduction and consumption share of each technology including the imports and exports\n",
    "myplots.plot_fuel_prod_cons(\n",
    "    path = r'{}/plots/prod_con_share.html'.format(path_folder),\n",
    "    years = [2021],\n",
    "    fuel_group = \"Electricity\",\n",
    "    regions = ['reg1','reg2'],\n",
    "    trade=True,\n",
    ")"
   ]
  },
  {
   "cell_type": "code",
   "execution_count": null,
   "metadata": {},
   "outputs": [],
   "source": [
    "# Sketching the annual CO2-equivalent emissions\n",
    "myplots.plot_emissions(\n",
    "    path = r'{}/plots/emissions.html'.format(path_folder),\n",
    "    regions = ['reg1','reg2'],\n",
    "    tech_group = 'Resource Extraction',\n",
    ")"
   ]
  }
 ],
 "metadata": {
  "kernelspec": {
   "display_name": "Python 3",
   "language": "python",
   "name": "python3"
  },
  "language_info": {
   "codemirror_mode": {
    "name": "ipython",
    "version": 3
   },
   "file_extension": ".py",
   "mimetype": "text/x-python",
   "name": "python",
   "nbconvert_exporter": "python",
   "pygments_lexer": "ipython3",
   "version": "3.8.8"
  }
 },
 "nbformat": 4,
 "nbformat_minor": 2
}
