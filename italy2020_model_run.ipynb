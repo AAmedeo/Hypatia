{
 "cells": [
  {
   "cell_type": "code",
   "execution_count": 1,
   "id": "9422ba60-2568-48e6-8723-ce0201dc3e63",
   "metadata": {},
   "outputs": [],
   "source": [
    "from hypatia import Model\n",
    "from hypatia import italy2020_merge_results"
   ]
  },
  {
   "cell_type": "code",
   "execution_count": 3,
   "id": "db605984-cffa-41c4-b51f-482b0e28031f",
   "metadata": {},
   "outputs": [],
   "source": [
    "base_path = r\"C:\\Users\\frac1\\Politecnico di Milano\\DENG-SESAM - Documenti\\PROJECTS_Eni_Modelling Suite\\Model\\examples\\Italian_energy_system_2020\""
   ]
  },
  {
   "cell_type": "code",
   "execution_count": null,
   "id": "0c4f5fe0-f6b3-4cf7-9f77-8f45b29bcc5d",
   "metadata": {},
   "outputs": [],
   "source": [
    "# SCENARIO 1\n",
    "\n",
    "# load sets\n",
    "model = Model(path=base_path + \"/sets/\", mode=\"Operation\")\n",
    "\n",
    "# read parameters data\n",
    "model.read_input_data(base_path + \"/parameters/\")\n",
    "\n",
    "# solve model\n",
    "model.run(solver='scipy')\n",
    "\n",
    "# write result to csv in the it2020 format\n",
    "model.to_csv(path=base_path + \"/result_scenario_1/\", force_rewrite=True, postprocessing_module=\"it2020\")"
   ]
  },
  {
   "cell_type": "code",
   "execution_count": null,
   "id": "da313730-2eaa-42d5-9fe0-cefe1adc334d",
   "metadata": {},
   "outputs": [],
   "source": [
    "# SCENARIO 2\n",
    "\n",
    "# load sets\n",
    "model2 = Model(path=base_path + \"/sets/\", mode=\"Operation\")\n",
    "\n",
    "# write default parameters data\n",
    "# model2.create_data_excels(base_path + \"/parameters_scenario_2\", force_rewrite=True)\n",
    "\n",
    "# read parameters data\n",
    "model2.read_input_data(base_path + \"/parameters_scenario_2/\")\n",
    "\n",
    "# solve model\n",
    "model2.run(solver='scipy')\n",
    "\n",
    "# write result to csv in the it2020 format\n",
    "model2.to_csv(path=base_path + \"/result_scenario_2/\", force_rewrite=True, postprocessing_module=\"it2020\")"
   ]
  },
  {
   "cell_type": "code",
   "execution_count": null,
   "id": "a3dfaab9-e244-4171-9035-c51a3877355c",
   "metadata": {},
   "outputs": [],
   "source": [
    "### ADD ADDITIONAL SCENARIOS\n",
    "#...\n",
    "#..."
   ]
  },
  {
   "cell_type": "code",
   "execution_count": null,
   "id": "0220a3bd-93b4-4309-839e-02992ed6cfdb",
   "metadata": {},
   "outputs": [],
   "source": [
    "# Merge result csv for different scenarios\n",
    "italy2020_merge_results(\n",
    "    scenarios={\n",
    "        \"scenario1\": base_path + \"/result_scenario_1/\",\n",
    "        \"scenario2\": base_path + \"/result_scenario_2/\"\n",
    "        # other scenarios...\n",
    "    },\n",
    "    path=base_path + \"/merged_results\",\n",
    "    force_rewrite=True\n",
    ")\n",
    "\n",
    "# AGGREGATION FILE\n",
    "# generate aggregation for the 2 models.\n",
    "# Since the 2 models sets are the same the generated file from the 2 models will be the same. Therefore I generate only 1 aggregation file\n",
    "# which can be shared between the 2 models\n",
    "model.create_aggregation_config_file(path=base_path + \"/aggregation_config.xlsx\")"
   ]
  }
 ],
 "metadata": {
  "kernelspec": {
   "display_name": "Python 3 (ipykernel)",
   "language": "python",
   "name": "python3"
  },
  "language_info": {
   "codemirror_mode": {
    "name": "ipython",
    "version": 3
   },
   "file_extension": ".py",
   "mimetype": "text/x-python",
   "name": "python",
   "nbconvert_exporter": "python",
   "pygments_lexer": "ipython3",
   "version": "3.8.13"
  }
 },
 "nbformat": 4,
 "nbformat_minor": 5
}
